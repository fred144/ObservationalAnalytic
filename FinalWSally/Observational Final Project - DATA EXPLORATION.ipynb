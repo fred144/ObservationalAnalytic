{
 "cells": [
  {
   "cell_type": "code",
   "execution_count": 323,
   "id": "2ba641c6",
   "metadata": {},
   "outputs": [],
   "source": [
    "import numpy as np\n",
    "from astropy.io import fits\n",
    "import matplotlib.pyplot as plt\n",
    "\n",
    "import warnings\n",
    "warnings.filterwarnings('ignore')\n",
    "\n",
    "%matplotlib inline\n",
    "import time, sys, os\n",
    "import h5py\n",
    "import numpy as np\n",
    "import scipy\n",
    "from matplotlib.pyplot import *\n",
    "\n",
    "%matplotlib inline\n",
    "\n",
    "# re-defining plotting defaults\n",
    "from matplotlib.font_manager import FontProperties\n",
    "from matplotlib import gridspec\n",
    "rcParams.update({'xtick.major.pad': '7.0'})\n",
    "rcParams.update({'xtick.major.size': '7.5'})\n",
    "rcParams.update({'xtick.major.width': '1.5'})\n",
    "rcParams.update({'xtick.minor.pad': '7.0'})\n",
    "rcParams.update({'xtick.minor.size': '3.5'})\n",
    "rcParams.update({'xtick.minor.width': '1.0'})\n",
    "rcParams.update({'ytick.major.pad': '7.0'})\n",
    "rcParams.update({'ytick.major.size': '7.5'})\n",
    "rcParams.update({'ytick.major.width': '1.5'})\n",
    "rcParams.update({'ytick.minor.pad': '7.0'})\n",
    "rcParams.update({'ytick.minor.size': '3.5'})\n",
    "rcParams.update({'ytick.minor.width': '1.0'})\n",
    "rcParams.update({'xtick.color': 'k'})\n",
    "rcParams.update({'ytick.color': 'k'})\n",
    "rcParams.update({'font.size': 30})"
   ]
  },
  {
   "cell_type": "code",
   "execution_count": 308,
   "id": "ee66f168",
   "metadata": {},
   "outputs": [],
   "source": [
    "## EXPLORING THE PHOTOMETRY CATALOG"
   ]
  },
  {
   "cell_type": "code",
   "execution_count": 309,
   "id": "3bc2fb9a",
   "metadata": {},
   "outputs": [],
   "source": [
    "photometry = fits.open(\"data/hlsp_jades_jwst_nircam_goods-s-deep_photometry_v2.0_catalog.fits\")"
   ]
  },
  {
   "cell_type": "code",
   "execution_count": 310,
   "id": "d897dcb0",
   "metadata": {},
   "outputs": [
    {
     "data": {
      "text/plain": [
       "chararray(['F090W', 'F115W', 'F150W', 'F182M', 'F200W', 'F210M', 'F277W',\n",
       "           'F335M', 'F356W', 'F410M', 'F430M', 'F444W', 'F460M', 'F480M',\n",
       "           'F435W', 'F606W', 'F775W', 'F814W', 'F850LP', 'F105W', 'F125W',\n",
       "           'F140W', 'F160W'], dtype='<U6')"
      ]
     },
     "execution_count": 310,
     "metadata": {},
     "output_type": "execute_result"
    }
   ],
   "source": [
    "## ALL THE FILTERS NAMES \n",
    "photometry[1].data[\"NAME\"]"
   ]
  },
  {
   "cell_type": "code",
   "execution_count": 34,
   "id": "3ac88f1a",
   "metadata": {},
   "outputs": [
    {
     "data": {
      "text/plain": [
       "array([0.79455, 1.0122 , 1.33079, 1.7215 , 1.7544 , 1.9916 , 2.42235,\n",
       "       3.17675, 3.13486, 3.86452, 4.1672 , 3.87939, 4.51446, 4.66175,\n",
       "       0.3878 , 0.4794 , 0.6998 , 0.7063 , 0.8303 , 0.9072 , 1.0993 ,\n",
       "       1.2005 , 1.3995 ], dtype='>f4')"
      ]
     },
     "execution_count": 34,
     "metadata": {},
     "output_type": "execute_result"
    }
   ],
   "source": [
    "photometry[1].data[\"WAVE_MIN\"]"
   ]
  },
  {
   "cell_type": "code",
   "execution_count": 205,
   "id": "55c706b0",
   "metadata": {},
   "outputs": [
    {
     "data": {
      "text/plain": [
       "array([1.9875622], dtype='>f4')"
      ]
     },
     "execution_count": 205,
     "metadata": {},
     "output_type": "execute_result"
    }
   ],
   "source": [
    "photometry[1].data[\"WAVE_PIVOT\"][photometry[1].data[\"NAME\"] == 'F200W']"
   ]
  },
  {
   "cell_type": "code",
   "execution_count": 35,
   "id": "2c6b78a1",
   "metadata": {},
   "outputs": [
    {
     "data": {
      "text/plain": [
       "array([1.00555, 1.2822 , 1.66879, 1.9685 , 2.2284 , 2.2016 , 3.13212,\n",
       "       3.53752, 3.98208, 4.30232, 4.39961, 4.98334, 4.74823, 4.97388,\n",
       "       0.4815 , 0.7088 , 0.851  , 0.8919 , 0.9517 , 1.199  , 1.3999 ,\n",
       "       1.5947 , 1.6871 ], dtype='>f4')"
      ]
     },
     "execution_count": 35,
     "metadata": {},
     "output_type": "execute_result"
    }
   ],
   "source": [
    "photometry[1].data[\"WAVE_MAX\"]"
   ]
  },
  {
   "cell_type": "code",
   "execution_count": null,
   "id": "089ea120",
   "metadata": {},
   "outputs": [],
   "source": []
  },
  {
   "cell_type": "code",
   "execution_count": null,
   "id": "90f20993",
   "metadata": {},
   "outputs": [],
   "source": [
    "## FIND THE SOURCE \n",
    "### ARRAY INDEX: 32675 \n",
    "### ID = 113585 "
   ]
  },
  {
   "cell_type": "code",
   "execution_count": 77,
   "id": "5dc1f201",
   "metadata": {},
   "outputs": [
    {
     "data": {
      "text/plain": [
       "113585"
      ]
     },
     "execution_count": 77,
     "metadata": {},
     "output_type": "execute_result"
    }
   ],
   "source": [
    "photometry[2].data[\"ID\"][32675]"
   ]
  },
  {
   "cell_type": "code",
   "execution_count": 78,
   "id": "66b3aadd",
   "metadata": {},
   "outputs": [
    {
     "data": {
      "text/plain": [
       "(53.121757309547014, -27.797637916203)"
      ]
     },
     "execution_count": 78,
     "metadata": {},
     "output_type": "execute_result"
    }
   ],
   "source": [
    "photometry[2].data[\"RA\"][32675], photometry[2].data[\"DEC\"][32675]"
   ]
  },
  {
   "cell_type": "code",
   "execution_count": null,
   "id": "8888723e",
   "metadata": {},
   "outputs": [],
   "source": [
    "## ALL THE FILTERS USED IN PAPER "
   ]
  },
  {
   "cell_type": "code",
   "execution_count": 319,
   "id": "d336d178",
   "metadata": {},
   "outputs": [],
   "source": [
    "filters = [\"F090W\", \"F115W\", \"F150W\",\"F182M\", \"F200W\",\"F210M\", \n",
    "               \"F277W\", \"F335M\", \"F356W\", \"F410M\",\"F430M\", \"F444W\", \n",
    "              \"F460M\", \"F480M\"]\n",
    "\n",
    "# GET THEIR WAVELENGTH PIVOT \n",
    "# micron\n",
    "wave_pivot_obs = []\n",
    "for fil in obs_filters:\n",
    "    pivot = photometry[1].data[\"WAVE_PIVOT\"][photometry[1].data[\"NAME\"] == fil][0]\n",
    "    wave_pivot_obs.append(pivot)\n",
    "    \n",
    "# GET THE PHOTOMETRY VALUE FOR EACH FILTER \n",
    "# Flux of source within circular aperture of 80% enclosed energy radius\n",
    "# nJy\n",
    "photometry_data = []\n",
    "for fil in filters: \n",
    "    #c_ap[0] circ0 - 80%\n",
    "    photometry_data.append(photometry[4].data[fil+\"_\"+c_ap[0]][32675])"
   ]
  },
  {
   "cell_type": "code",
   "execution_count": 324,
   "id": "3d9e1b88",
   "metadata": {},
   "outputs": [
    {
     "data": {
      "text/plain": [
       "Text(0, 0.5, 'Flux (nJy)')"
      ]
     },
     "execution_count": 324,
     "metadata": {},
     "output_type": "execute_result"
    },
    {
     "data": {
      "image/png": "[encoded data removed]",
      "text/plain": [
       "<Figure size 640x480 with 1 Axes>"
      ]
     },
     "metadata": {},
     "output_type": "display_data"
    }
   ],
   "source": [
    "plt.scatter(wave_pivot_obs, photometry_data)\n",
    "plt.xlabel(\"Wavelength (micron)\")\n",
    "plt.ylabel(\"Flux (nJy)\")"
   ]
  },
  {
   "cell_type": "code",
   "execution_count": null,
   "id": "308fd220",
   "metadata": {},
   "outputs": [],
   "source": []
  },
  {
   "cell_type": "code",
   "execution_count": 331,
   "id": "03fc4c78",
   "metadata": {},
   "outputs": [],
   "source": [
    "# nJy to maggies "
   ]
  },
  {
   "cell_type": "code",
   "execution_count": 338,
   "id": "015ede51",
   "metadata": {},
   "outputs": [],
   "source": [
    "m_AB = -2.5 * np.log10((photometry_data * u.nJy).to(u.Jansky)/(3631*u.Jansky))\n",
    "obs[\"maggies\"] = 10**(-0.4*m_AB)"
   ]
  },
  {
   "cell_type": "code",
   "execution_count": null,
   "id": "385127e8",
   "metadata": {},
   "outputs": [],
   "source": []
  },
  {
   "cell_type": "code",
   "execution_count": null,
   "id": "66498b0a",
   "metadata": {},
   "outputs": [],
   "source": [
    "\n",
    "    "
   ]
  },
  {
   "cell_type": "code",
   "execution_count": null,
   "id": "7a6d69ec",
   "metadata": {},
   "outputs": [],
   "source": []
  },
  {
   "cell_type": "code",
   "execution_count": null,
   "id": "d4b0b3af",
   "metadata": {},
   "outputs": [],
   "source": []
  },
  {
   "cell_type": "code",
   "execution_count": null,
   "id": "12603c17",
   "metadata": {},
   "outputs": [],
   "source": [
    "## Running Prospector "
   ]
  },
  {
   "cell_type": "code",
   "execution_count": 322,
   "id": "77121289",
   "metadata": {},
   "outputs": [],
   "source": []
  },
  {
   "cell_type": "code",
   "execution_count": null,
   "id": "e5ea121f",
   "metadata": {},
   "outputs": [],
   "source": [
    "import fsps\n",
    "import sedpy\n",
    "import prospect\n",
    "import emcee\n",
    "import dynesty"
   ]
  },
  {
   "cell_type": "code",
   "execution_count": 328,
   "id": "73c1562a",
   "metadata": {},
   "outputs": [],
   "source": [
    "### ldist for a object with z~5.9 is 5.783e4 Mpc"
   ]
  },
  {
   "cell_type": "code",
   "execution_count": null,
   "id": "45570ef0",
   "metadata": {},
   "outputs": [],
   "source": []
  },
  {
   "cell_type": "code",
   "execution_count": null,
   "id": "f695bc6b",
   "metadata": {},
   "outputs": [],
   "source": []
  },
  {
   "cell_type": "code",
   "execution_count": null,
   "id": "e3640b13",
   "metadata": {},
   "outputs": [],
   "source": [
    "def build_obs(snr=10, ldist=10.0, **extras):\n",
    "    \"\"\"Build a dictionary of observational data.  In this example \n",
    "    the data consist of photometry for a single nearby dwarf galaxy \n",
    "    from Johnson et al. 2013.\n",
    "    \n",
    "    :param snr:\n",
    "        The S/N to assign to the photometry, since none are reported \n",
    "        in Johnson et al. 2013\n",
    "        \n",
    "    :param ldist:\n",
    "        The luminosity distance to assume for translating absolute magnitudes \n",
    "        into apparent magnitudes.\n",
    "        \n",
    "    :returns obs:\n",
    "        A dictionary of observational data to use in the fit.\n",
    "    \"\"\"\n",
    "    from prospect.utils.obsutils import fix_obs\n",
    "    import sedpy\n",
    "\n",
    "    # The obs dictionary, empty for now\n",
    "    obs = {}\n",
    "\n",
    "    # These are the names of the relevant filters, \n",
    "    # in the same order as the photometric data (see below)\n",
    "    jwst = filters\n",
    "    filternames = jwst\n",
    "    # And here we instantiate the `Filter()` objects using methods in `sedpy`,\n",
    "    # and put the resultinf list of Filter objects in the \"filters\" key of the `obs` dictionary\n",
    "    obs[\"filters\"] = sedpy.observate.load_filters(filternames)\n",
    "\n",
    "    # Now we store the measured fluxes for a single object, **in the same order as \"filters\"**\n",
    "    # In this example we use a row of absolute AB magnitudes from Johnson et al. 2013 (NGC4163)\n",
    "    # We then turn them into apparent magnitudes based on the supplied `ldist` meta-parameter.\n",
    "    # You could also, e.g. read from a catalog.\n",
    "    # The units of the fluxes need to be maggies (Jy/3631) so we will do the conversion here too.\n",
    "    \n",
    "    M_AB = np.array([-11.93, -12.37, -13.37, -14.22, -14.61, -14.86, \n",
    "                     -14.94, -14.09, -13.62, -13.23, -12.78])\n",
    "    dm = 25 + 5.0 * np.log10(ldist)\n",
    "    mags = M_AB + dm\n",
    "    obs[\"maggies\"] = 10**(-0.4*mags)\n",
    "\n",
    "    # And now we store the uncertainties (again in units of maggies)\n",
    "    # In this example we are going to fudge the uncertainties based on the supplied `snr` meta-parameter.\n",
    "    obs[\"maggies_unc\"] = (1./snr) * obs[\"maggies\"]\n",
    "\n",
    "    # Now we need a mask, which says which flux values to consider in the likelihood.\n",
    "    # IMPORTANT: the mask is *True* for values that you *want* to fit, \n",
    "    # and *False* for values you want to ignore.  Here we ignore the spitzer bands.\n",
    "    obs[\"phot_mask\"] = np.array(['spitzer' not in f.name for f in obs[\"filters\"]])\n",
    "\n",
    "    # This is an array of effective wavelengths for each of the filters.  \n",
    "    # It is not necessary, but it can be useful for plotting so we store it here as a convenience\n",
    "    obs[\"phot_wave\"] = np.array([f.wave_effective for f in obs[\"filters\"]])\n",
    "\n",
    "    # We do not have a spectrum, so we set some required elements of the obs dictionary to None.\n",
    "    # (this would be a vector of vacuum wavelengths in angstroms)\n",
    "    obs[\"wavelength\"] = None\n",
    "    # (this would be the spectrum in units of maggies)\n",
    "    obs[\"spectrum\"] = None\n",
    "    # (spectral uncertainties are given here)\n",
    "    obs['unc'] = None\n",
    "    # (again, to ignore a particular wavelength set the value of the \n",
    "    #  corresponding elemnt of the mask to *False*)\n",
    "    obs['mask'] = None\n",
    "\n",
    "    # This function ensures all required keys are present in the obs dictionary,\n",
    "    # adding default values if necessary\n",
    "    obs = fix_obs(obs)\n",
    "\n",
    "    return obs"
   ]
  },
  {
   "cell_type": "code",
   "execution_count": null,
   "id": "9c379210",
   "metadata": {},
   "outputs": [],
   "source": []
  },
  {
   "cell_type": "code",
   "execution_count": null,
   "id": "8ba1d595",
   "metadata": {},
   "outputs": [],
   "source": []
  },
  {
   "cell_type": "code",
   "execution_count": null,
   "id": "5cb8dcdd",
   "metadata": {},
   "outputs": [],
   "source": []
  },
  {
   "cell_type": "code",
   "execution_count": null,
   "id": "167e779f",
   "metadata": {},
   "outputs": [],
   "source": []
  },
  {
   "cell_type": "code",
   "execution_count": null,
   "id": "60601520",
   "metadata": {},
   "outputs": [],
   "source": []
  },
  {
   "cell_type": "code",
   "execution_count": null,
   "id": "486f250b",
   "metadata": {},
   "outputs": [],
   "source": []
  },
  {
   "cell_type": "code",
   "execution_count": 182,
   "id": "58ef818a",
   "metadata": {},
   "outputs": [
    {
     "data": {
      "image/png": "[encoded data removed]",
      "text/plain": [
       "<Figure size 1000x500 with 6 Axes>"
      ]
     },
     "metadata": {},
     "output_type": "display_data"
    }
   ],
   "source": [
    "#filters = [\"F090W\", \"F115W\", \"F150W\", \"F182M\", \"F200W\", \"F210M\", \"F270W\", \"F335M\"]\n",
    "\n",
    "filters = [\"F115W\", \"F150W\", \"F200W\", \"F277W\", \"F356W\", \"F444W\"]\n",
    "c_ap = [\"CIRC1\", \"CIRC2\", \"CIRC3\", \"CIRC4\", \"CIRC5\", \"CIRC6\"] #[\"CIRC0\", \"CIRC1\", \"CIRC2\", \"CIRC3\", \"CIRC4\", \"CIRC5\", \"CIRC6\"]\n",
    "\n",
    "\n",
    "fig, axs = plt.subplots(2, 3, figsize=(10, 5))\n",
    "ax = axs.flatten()\n",
    "\n",
    "for i in np.arange(6):\n",
    "    circular = []\n",
    "    for cir in c_ap: \n",
    "        circular.append(photometry[4].data[filters[i]+\"_\"+cir][32675])\n",
    "    ax[i].plot(np.arange(6), circular)\n",
    "        \n",
    "        "
   ]
  },
  {
   "cell_type": "code",
   "execution_count": null,
   "id": "2d87e0a2",
   "metadata": {},
   "outputs": [],
   "source": []
  },
  {
   "cell_type": "code",
   "execution_count": 229,
   "id": "b1043ac7",
   "metadata": {},
   "outputs": [],
   "source": [
    "obs_filters = [\"F090W\", \"F115W\", \"F150W\",\"F182M\", \"F200W\",\"F210M\", \n",
    "               \"F277W\", \"F335M\", \"F356W\", \"F410M\",\"F430M\", \"F444W\", \n",
    "              \"F460M\", \"F480M\"]\n",
    "\n",
    "wave_pivot_obs = []\n",
    "for fil in obs_filters:\n",
    "    print(fil)\n",
    "    pivot = photometry[1].data[\"WAVE_PIVOT\"][photometry[1].data[\"NAME\"] == fil][0]\n",
    "    wave_pivot_obs.append(pivot)\n",
    "\n",
    "\n",
    "obs_data = [44.9, 64.5, 51.7, 57.6, 54, 51.3, \n",
    "            52.7, 201, 108.9, 29.8, 22.9, 65.4, \n",
    "            204.6, 28.6]\n",
    "\n",
    "obs_data_err = [1.1, 0.8, 0.9, 1.9, 0.9, 2.1, \n",
    "                0.3, 0.5, 0.3, 0.5, 2.4, 0.4, \n",
    "               3.6, 2.4]"
   ]
  },
  {
   "cell_type": "code",
   "execution_count": 242,
   "id": "730d56b9",
   "metadata": {},
   "outputs": [
    {
     "data": {
      "text/plain": [
       "<ErrorbarContainer object of 3 artists>"
      ]
     },
     "execution_count": 242,
     "metadata": {},
     "output_type": "execute_result"
    },
    {
     "data": {
      "image/png": "[encoded data removed]",
      "text/plain": [
       "<Figure size 640x480 with 1 Axes>"
      ]
     },
     "metadata": {},
     "output_type": "display_data"
    }
   ],
   "source": [
    "plt.errorbar(wave_pivot_obs, obs_data, yerr=obs_data_err, fmt=\"s\")"
   ]
  },
  {
   "cell_type": "code",
   "execution_count": 296,
   "id": "2e047d3b",
   "metadata": {},
   "outputs": [],
   "source": [
    "obs_data = [44.9, 64.5, 51.7, 57.6, 54, 51.3, \n",
    "            52.7, 201, 108.9, 29.8, 22.9, 65.4, \n",
    "            204.6, 28.6]\n",
    "\n",
    "obs_data_err = [1.1, 0.8, 0.9, 1.9, 0.9, 2.1, \n",
    "                0.3, 0.5, 0.3, 0.5, 2.4, 0.4, \n",
    "               3.6, 2.4]"
   ]
  },
  {
   "cell_type": "code",
   "execution_count": null,
   "id": "c1d220df",
   "metadata": {},
   "outputs": [],
   "source": []
  },
  {
   "cell_type": "code",
   "execution_count": null,
   "id": "4bd96af3",
   "metadata": {},
   "outputs": [],
   "source": []
  },
  {
   "cell_type": "code",
   "execution_count": 195,
   "id": "17cb9adc",
   "metadata": {},
   "outputs": [],
   "source": [
    "#filters = [\"F090W\", \"F115W\", \"F150W\", \"F182M\", \"F200W\", \"F210M\", \"F270W\", \"F335M\"]\n",
    "\n",
    "filters = [\"F115W\", \"F150W\", \"F200W\", \"F277W\", \"F356W\", \"F444W\"]\n",
    "c_ap = [\"CIRC0\", \"CIRC1\", \"CIRC2\", \"CIRC3\", \"CIRC4\", \"CIRC5\", \"CIRC6\"]\n",
    "\n",
    "i=1\n",
    "circular = []\n",
    "for cir in c_ap: \n",
    "    circular.append(photometry[4].data[filters[i]+\"_\"+cir][32675])\n"
   ]
  },
  {
   "cell_type": "code",
   "execution_count": 311,
   "id": "6992e269",
   "metadata": {
    "scrolled": true
   },
   "outputs": [],
   "source": [
    "filters = [\"F090W\", \"F115W\", \"F150W\",\"F182M\", \"F200W\",\"F210M\", \n",
    "               \"F277W\", \"F335M\", \"F356W\", \"F410M\",\"F430M\", \"F444W\", \n",
    "              \"F460M\", \"F480M\"]\n",
    "\n",
    "photometry_data = []\n",
    "for fil in filters: \n",
    "    #c_ap[0] circ0 - 80%\n",
    "    photometry_data.append(photometry[4].data[fil+\"_\"+c_ap[0]][32675])"
   ]
  },
  {
   "cell_type": "code",
   "execution_count": null,
   "id": "745997e7",
   "metadata": {},
   "outputs": [],
   "source": []
  },
  {
   "cell_type": "code",
   "execution_count": 317,
   "id": "97d5089e",
   "metadata": {},
   "outputs": [
    {
     "data": {
      "text/plain": [
       "<matplotlib.collections.PathCollection at 0x7fb41dd886a0>"
      ]
     },
     "execution_count": 317,
     "metadata": {},
     "output_type": "execute_result"
    },
    {
     "data": {
      "image/png": "[encoded data removed]",
      "text/plain": [
       "<Figure size 640x480 with 1 Axes>"
      ]
     },
     "metadata": {},
     "output_type": "display_data"
    }
   ],
   "source": [
    "plt.errorbar(wave_pivot_obs, obs_data, yerr=obs_data_err, fmt=\"s\", color=\"red\")\n",
    "\n",
    "plt.scatter(wave_pivot_obs, photometry_data)"
   ]
  },
  {
   "cell_type": "code",
   "execution_count": 288,
   "id": "4a81faea",
   "metadata": {},
   "outputs": [],
   "source": []
  },
  {
   "cell_type": "code",
   "execution_count": null,
   "id": "79d4990b",
   "metadata": {},
   "outputs": [],
   "source": []
  },
  {
   "cell_type": "code",
   "execution_count": null,
   "id": "bf5bb2eb",
   "metadata": {},
   "outputs": [],
   "source": []
  },
  {
   "cell_type": "code",
   "execution_count": null,
   "id": "f9a9d419",
   "metadata": {},
   "outputs": [],
   "source": []
  },
  {
   "cell_type": "code",
   "execution_count": null,
   "id": "fbf2e9ac",
   "metadata": {},
   "outputs": [],
   "source": []
  },
  {
   "cell_type": "code",
   "execution_count": null,
   "id": "1821dc2a",
   "metadata": {},
   "outputs": [],
   "source": []
  },
  {
   "cell_type": "code",
   "execution_count": null,
   "id": "20fffcc9",
   "metadata": {},
   "outputs": [],
   "source": []
  },
  {
   "cell_type": "code",
   "execution_count": null,
   "id": "3da46727",
   "metadata": {},
   "outputs": [],
   "source": []
  },
  {
   "cell_type": "code",
   "execution_count": null,
   "id": "de0e710c",
   "metadata": {},
   "outputs": [],
   "source": []
  },
  {
   "cell_type": "code",
   "execution_count": null,
   "id": "08249de3",
   "metadata": {},
   "outputs": [],
   "source": []
  },
  {
   "cell_type": "code",
   "execution_count": null,
   "id": "11c672fd",
   "metadata": {},
   "outputs": [],
   "source": []
  },
  {
   "cell_type": "code",
   "execution_count": null,
   "id": "874142a8",
   "metadata": {},
   "outputs": [],
   "source": []
  },
  {
   "cell_type": "code",
   "execution_count": null,
   "id": "cd8da37a",
   "metadata": {},
   "outputs": [],
   "source": []
  },
  {
   "cell_type": "code",
   "execution_count": null,
   "id": "6460ec4e",
   "metadata": {},
   "outputs": [],
   "source": []
  },
  {
   "cell_type": "code",
   "execution_count": null,
   "id": "294b1352",
   "metadata": {},
   "outputs": [],
   "source": []
  },
  {
   "cell_type": "code",
   "execution_count": null,
   "id": "2716695e",
   "metadata": {},
   "outputs": [],
   "source": []
  },
  {
   "cell_type": "code",
   "execution_count": null,
   "id": "ed8e7b3a",
   "metadata": {},
   "outputs": [],
   "source": []
  },
  {
   "cell_type": "code",
   "execution_count": null,
   "id": "8152b221",
   "metadata": {},
   "outputs": [],
   "source": []
  },
  {
   "cell_type": "code",
   "execution_count": null,
   "id": "41fdcae7",
   "metadata": {},
   "outputs": [],
   "source": []
  },
  {
   "cell_type": "code",
   "execution_count": null,
   "id": "f001e5ca",
   "metadata": {},
   "outputs": [],
   "source": []
  },
  {
   "cell_type": "code",
   "execution_count": null,
   "id": "027003fd",
   "metadata": {},
   "outputs": [],
   "source": []
  }
 ],
 "metadata": {
  "kernelspec": {
   "display_name": "Python 3 (ipykernel)",
   "language": "python",
   "name": "python3"
  },
  "language_info": {
   "codemirror_mode": {
    "name": "ipython",
    "version": 3
   },
   "file_extension": ".py",
   "mimetype": "text/x-python",
   "name": "python",
   "nbconvert_exporter": "python",
   "pygments_lexer": "ipython3",
   "version": "3.9.16"
  }
 },
 "nbformat": 4,
 "nbformat_minor": 5
}
